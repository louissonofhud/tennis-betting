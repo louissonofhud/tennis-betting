{
 "cells": [
  {
   "cell_type": "code",
   "execution_count": null,
   "id": "c80a2f7f",
   "metadata": {},
   "outputs": [],
   "source": [
    "import requests\n",
    "import pandas as pd\n",
    "from data_processor import TennisDataProcessor, to_player, to_average,get_fatigue_stats\n",
    "\n",
    "ROUND_ORDER = [\"RR\", \"R128\", \"R64\", \"R32\", \"R16\", \"QF\", \"SF\", \"F\"]\n",
    "\n",
    "pd.options.display.max_columns = None\n",
    "url = \"https://raw.githubusercontent.com/JeffSackmann/tennis_atp/refs/heads/master/atp_matches_{}.csv\"\n",
    "data_20s = pd.concat([pd.read_csv(url.format(year)) for year in range(2000, 2025)])\n"
   ]
  },
  {
   "cell_type": "code",
   "execution_count": null,
   "id": "39805381",
   "metadata": {},
   "outputs": [],
   "source": [
    "tdp = TennisDataProcessor(data_20s.copy())\n",
    "derived_data = tdp.derive_match_data()"
   ]
  },
  {
   "cell_type": "code",
   "execution_count": null,
   "id": "f362369a",
   "metadata": {},
   "outputs": [],
   "source": [
    "roger_data = to_player(\"Roger Federer\", derived_data)\n",
    "roger_averages = to_average(roger_data, lookback=10)\n",
    "roger_full = get_fatigue_stats(roger_averages)"
   ]
  }
 ],
 "metadata": {
  "kernelspec": {
   "display_name": "env",
   "language": "python",
   "name": "python3"
  },
  "language_info": {
   "codemirror_mode": {
    "name": "ipython",
    "version": 3
   },
   "file_extension": ".py",
   "mimetype": "text/x-python",
   "name": "python",
   "nbconvert_exporter": "python",
   "pygments_lexer": "ipython3",
   "version": "3.13.5"
  }
 },
 "nbformat": 4,
 "nbformat_minor": 5
}
