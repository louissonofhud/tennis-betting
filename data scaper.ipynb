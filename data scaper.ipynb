{
 "cells": [
  {
   "cell_type": "code",
   "execution_count": null,
   "id": "c80a2f7f",
   "metadata": {},
   "outputs": [],
   "source": [
    "import requests\n",
    "import pandas as pd\n",
    "from data_processor import TennisDataProcessor, to_player, to_average,get_fatigue_stats\n",
    "\n",
    "ROUND_ORDER = [\"RR\", \"R128\", \"R64\", \"R32\", \"R16\", \"QF\", \"SF\", \"F\"]\n",
    "\n",
    "pd.options.display.max_columns = None\n",
    "url = \"https://raw.githubusercontent.com/JeffSackmann/tennis_atp/refs/heads/master/atp_matches_{}.csv\"\n",
    "data_20s = pd.concat([pd.read_csv(url.format(year)) for year in range(2000, 2025)])\n"
   ]
  },
  {
   "cell_type": "code",
   "execution_count": null,
   "id": "39805381",
   "metadata": {},
   "outputs": [],
   "source": [
    "tdp = TennisDataProcessor(data_20s.copy())\n",
    "derived_data = tdp.derive_match_data()"
   ]
  },
  {
   "cell_type": "code",
   "execution_count": null,
   "id": "f362369a",
   "metadata": {},
   "outputs": [],
   "source": [
    "player_1_name = \"Novak Djokovic\"\n",
    "player_1_full = get_fatigue_stats(\n",
    "    to_average(\n",
    "        to_player(player_1_name, derived_data), \n",
    "        lookback=10)\n",
    "    )\n",
    "player_1_full.sort_values(\n",
    "    by=[\"player_rank_points\"],\n",
    "    ascending=False\n",
    ")\n",
    "\n",
    "player_2_name = \"Roger Federer\"\n",
    "player_2_full = get_fatigue_stats(\n",
    "    to_average(\n",
    "        to_player(player_2_name, derived_data), \n",
    "        lookback=10)\n",
    "    )\n",
    "player_2_full.sort_values(\n",
    "    by=[\"player_rank_points\"],\n",
    "    ascending=False \n",
    ")\n",
    "\n",
    "novvsfed = player_1_full.loc[player_1_full[\"opponent_name\"]==\"Roger Federer\"].head(15)\n",
    "fedvsnov = player_2_full.loc[player_2_full[\"opponent_name\"]==\"Novak Djokovic\"].head(15)"
   ]
  },
  {
   "cell_type": "code",
   "execution_count": null,
   "id": "c8e69945",
   "metadata": {},
   "outputs": [],
   "source": [
    "match_keys = ['surface', 'tourney_level', 'tourney_date', 'tourney_name', 'round', 'best_of']\n",
    "df = pd.merge(\n",
    "    novvsfed,\n",
    "    fedvsnov,\n",
    "    on=match_keys,\n",
    "    suffixes=('_djokovic', '_federer'),\n",
    "    how='inner'\n",
    ")\n",
    "def reorder_players(row):\n",
    "    if row['result_djokovic'] == 'win':\n",
    "        winner = {f'winner_{col.replace(\"_djokovic\", \"\")}': row[col] for col in row.index if '_djokovic' in col}\n",
    "        loser = {f'loser_{col.replace(\"_federer\", \"\")}': row[col] for col in row.index if '_federer' in col}\n",
    "    else:\n",
    "        winner = {f'winner_{col.replace(\"_federer\", \"\")}': row[col] for col in row.index if '_federer' in col}\n",
    "        loser = {f'loser_{col.replace(\"_djokovic\", \"\")}': row[col] for col in row.index if '_djokovic' in col}\n",
    "\n",
    "    match_data = {key: row[key] for key in match_keys}\n",
    "    return pd.Series({**match_data, **winner, **loser})\n",
    "\n",
    "df_final = df.apply(reorder_players, axis=1)\n",
    "df_final"
   ]
  },
  {
   "cell_type": "code",
   "execution_count": null,
   "id": "7179ca42",
   "metadata": {},
   "outputs": [],
   "source": [
    "# Next steps: \n",
    "# Change columns on df_final\n",
    "# Build model"
   ]
  }
 ],
 "metadata": {
  "kernelspec": {
   "display_name": "Python 3",
   "language": "python",
   "name": "python3"
  },
  "language_info": {
   "codemirror_mode": {
    "name": "ipython",
    "version": 3
   },
   "file_extension": ".py",
   "mimetype": "text/x-python",
   "name": "python",
   "nbconvert_exporter": "python",
   "pygments_lexer": "ipython3",
   "version": "3.12.1"
  }
 },
 "nbformat": 4,
 "nbformat_minor": 5
}
