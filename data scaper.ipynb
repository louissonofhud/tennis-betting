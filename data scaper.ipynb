{
 "cells": [
  {
   "cell_type": "code",
   "execution_count": null,
   "id": "c80a2f7f",
   "metadata": {},
   "outputs": [],
   "source": [
    "import requests\n",
    "import pandas as pd\n",
    "from data_processor import TennisDataProcessor, to_player, to_average,get_fatigue_stats, merge_tables\n",
    "\n",
    "ROUND_ORDER = [\"RR\", \"R128\", \"R64\", \"R32\", \"R16\", \"QF\", \"SF\", \"F\"]\n",
    "\n",
    "pd.options.display.max_columns = None\n",
    "url = \"https://raw.githubusercontent.com/JeffSackmann/tennis_atp/refs/heads/master/atp_matches_{}.csv\"\n",
    "data_20s = pd.concat([pd.read_csv(url.format(year)) for year in range(2000, 2025)])\n"
   ]
  },
  {
   "cell_type": "code",
   "execution_count": null,
   "id": "39805381",
   "metadata": {},
   "outputs": [],
   "source": [
    "tdp = TennisDataProcessor(data_20s.copy())\n",
    "derived_data = tdp.derive_match_data()"
   ]
  },
  {
   "cell_type": "code",
   "execution_count": null,
   "id": "6aba8956",
   "metadata": {},
   "outputs": [],
   "source": [
    "total_matches = (derived_data[\"winner_name\"].value_counts() + derived_data[\"loser_name\"].value_counts()).dropna().sort_values(ascending=False)\n",
    "total_matches_enough = total_matches[total_matches > 49]\n",
    "players_to_use = list(total_matches_enough.index)\n",
    "all_stats = []\n",
    "for name in players_to_use:\n",
    "    player_stats = get_fatigue_stats(\n",
    "        to_average(\n",
    "            to_player(name, derived_data), \n",
    "            lookback=10)\n",
    "        )\n",
    "    all_stats.append(player_stats)\n",
    "\n",
    "\n",
    "final_table = merge_tables(all_stats)"
   ]
  },
  {
   "cell_type": "code",
   "execution_count": null,
   "id": "5a5bf997",
   "metadata": {},
   "outputs": [],
   "source": [
    "final_table.head(10)"
   ]
  }
 ],
 "metadata": {
  "kernelspec": {
   "display_name": "Python 3",
   "language": "python",
   "name": "python3"
  },
  "language_info": {
   "codemirror_mode": {
    "name": "ipython",
    "version": 3
   },
   "file_extension": ".py",
   "mimetype": "text/x-python",
   "name": "python",
   "nbconvert_exporter": "python",
   "pygments_lexer": "ipython3",
   "version": "3.12.1"
  }
 },
 "nbformat": 4,
 "nbformat_minor": 5
}
